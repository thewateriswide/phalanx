{
 "cells": [
  {
   "cell_type": "markdown",
   "metadata": {},
   "source": [
    "# Tutorial - Basic\n",
    "---\n",
    "Basic skills with _phalanx_."
   ]
  },
  {
   "cell_type": "markdown",
   "metadata": {},
   "source": [
    "## What _phalanx_ does\n",
    "\n",
    "_phalanx_ simulates an quantum annealing process by generating a so-called Gibbs distribution.  This distribution reflects an invariant end of some qubits evolving under some certain topological structure.  \n",
    "\n",
    "Users can define the inner structure of these qubits by setting the connection relationship.  If it's done, _phalanx_ generates a Hamiltonian for it, and calculates its eigenvalues and eigenstates.  \n",
    "\n",
    "In _phalanx_, an annealer with $N$ qubits has a Hamiltonian like  \n",
    "\n",
    "$$ H = \\sum_i^Nh_iZ_i + \\sum_{i,j}^N J_{ij}Z_iZ_j $$\n",
    "\n",
    "Here $Z$ is the Pauli matrix,  \n",
    "\n",
    "\\begin{bmatrix}\n",
    "1 & 0\\\\\n",
    "0 &-1\n",
    "\\end{bmatrix}\n",
    "\n",
    "$h$ and $J$ have similar meanings as in conventional Ising model, and are combined together as one upper triangular matrix which we call it the connection of the annealer.\n",
    "\n",
    "An user can measure the final Gibbs distribution.  In this procedure, _phalanx_ will pick up an eigenstate in this distribution according to \n",
    "\n",
    "\\begin{align*} \\frac{e^{-\\beta E}}{{\\rm tr}(e^{-\\beta H})} \\end{align*}\n",
    "\n",
    "$E$ is the eigenvalue for this eigenstate, $\\beta$ is the inverse temperature.  Then makes it collapses to an observation basis state and return it.\n",
    "\n",
    "By enough measurements, users can infer the Gibbs distribution, just like for a real annealing process."
   ]
  },
  {
   "cell_type": "markdown",
   "metadata": {},
   "source": [
    "## Create and set an annealer object\n",
    "\n",
    "To start the simulation, we need define an annealer object at first.  An annealer is a collection of several qubits with an environment parameter $\\beta$.  $\\beta$ is usually named as inverse temperature, because in statistical mechanics $\\beta = 1 / (k_BT)$.  So a lager $\\beta$ means lower temperature, gives a narrow distribution."
   ]
  },
  {
   "cell_type": "code",
   "execution_count": 1,
   "metadata": {},
   "outputs": [],
   "source": [
    "from phalanx import Annealer\n",
    "\n",
    "beta = 4.0\n",
    "num_qubits = 3\n",
    "anl = Annealer(beta, num_qubits)"
   ]
  },
  {
   "cell_type": "markdown",
   "metadata": {},
   "source": [
    "The connection relationship is defined by the connection matrix, which is an upper triangular matrix.  The diagonal elements are $h$ in the Hamiltonian and the off-diagonal elements are $J$."
   ]
  },
  {
   "cell_type": "code",
   "execution_count": 2,
   "metadata": {},
   "outputs": [],
   "source": [
    "# Set connection of the qubits.\n",
    "cnt = [\n",
    "    [1,2,3],\n",
    "    [0,1,2],\n",
    "    [0,0,1]]\n",
    "anl.set_connection(cnt)"
   ]
  },
  {
   "cell_type": "markdown",
   "metadata": {},
   "source": [
    "## Check the connection\n",
    "\n",
    "You can directly check the connection matrix or by an undirected graph.  The number on vertex denotes the qubit."
   ]
  },
  {
   "cell_type": "code",
   "execution_count": 3,
   "metadata": {},
   "outputs": [
    {
     "data": {
      "text/plain": [
       "array([[1., 2., 3.],\n",
       "       [0., 1., 2.],\n",
       "       [0., 0., 1.]])"
      ]
     },
     "execution_count": 3,
     "metadata": {},
     "output_type": "execute_result"
    }
   ],
   "source": [
    "anl.connection"
   ]
  },
  {
   "cell_type": "code",
   "execution_count": 4,
   "metadata": {},
   "outputs": [
    {
     "data": {
      "image/png": "[encoded data removed]",
      "text/plain": [
       "<Figure size 432x288 with 1 Axes>"
      ]
     },
     "metadata": {},
     "output_type": "display_data"
    }
   ],
   "source": [
    "anl.draw_topology()"
   ]
  },
  {
   "cell_type": "markdown",
   "metadata": {},
   "source": [
    "## The Hilbert space\n",
    "\n",
    "After setting the connection, a Hamiltonian is calculated automatically from it, also the eigenvalues and the eigenstates.  You can directly check them.  They are all numpy arrays."
   ]
  },
  {
   "cell_type": "code",
   "execution_count": 5,
   "metadata": {},
   "outputs": [
    {
     "data": {
      "text/plain": [
       "array([[10.,  0.,  0.,  0.,  0.,  0.,  0.,  0.],\n",
       "       [ 0., -2.,  0.,  0.,  0.,  0.,  0.,  0.],\n",
       "       [ 0.,  0.,  0.,  0.,  0.,  0.,  0.,  0.],\n",
       "       [ 0.,  0.,  0., -4.,  0.,  0.,  0.,  0.],\n",
       "       [ 0.,  0.,  0.,  0., -2.,  0.,  0.,  0.],\n",
       "       [ 0.,  0.,  0.,  0.,  0., -2.,  0.,  0.],\n",
       "       [ 0.,  0.,  0.,  0.,  0.,  0., -4.,  0.],\n",
       "       [ 0.,  0.,  0.,  0.,  0.,  0.,  0.,  4.]])"
      ]
     },
     "execution_count": 5,
     "metadata": {},
     "output_type": "execute_result"
    }
   ],
   "source": [
    "anl.hamiltonian"
   ]
  },
  {
   "cell_type": "code",
   "execution_count": 6,
   "metadata": {},
   "outputs": [
    {
     "data": {
      "text/plain": [
       "array([10., -2.,  0., -4., -2., -2., -4.,  4.])"
      ]
     },
     "execution_count": 6,
     "metadata": {},
     "output_type": "execute_result"
    }
   ],
   "source": [
    "anl.eigenvalue"
   ]
  },
  {
   "cell_type": "code",
   "execution_count": 7,
   "metadata": {},
   "outputs": [
    {
     "data": {
      "text/plain": [
       "array([[1., 0., 0., 0., 0., 0., 0., 0.],\n",
       "       [0., 1., 0., 0., 0., 0., 0., 0.],\n",
       "       [0., 0., 1., 0., 0., 0., 0., 0.],\n",
       "       [0., 0., 0., 1., 0., 0., 0., 0.],\n",
       "       [0., 0., 0., 0., 1., 0., 0., 0.],\n",
       "       [0., 0., 0., 0., 0., 1., 0., 0.],\n",
       "       [0., 0., 0., 0., 0., 0., 1., 0.],\n",
       "       [0., 0., 0., 0., 0., 0., 0., 1.]])"
      ]
     },
     "execution_count": 7,
     "metadata": {},
     "output_type": "execute_result"
    }
   ],
   "source": [
    "anl.eigenstate"
   ]
  },
  {
   "cell_type": "markdown",
   "metadata": {},
   "source": [
    "## Qubit notation\n",
    "\n",
    "Since Hamiltonian in _phalanx_ is of Ising type, we denote a qubit's state by $1$ for up, $-1$ for down.\n",
    "\n",
    "\\begin{align*}\n",
    "|1\\rangle = \\begin{bmatrix} 1 \\\\ 0 \\end{bmatrix},\n",
    "\\hspace{0.6cm}\n",
    "|-1\\rangle = \\begin{bmatrix} 0 \\\\ 1 \\end{bmatrix}.\n",
    "\\end{align*}\n",
    "\n",
    "For a system has more than one qubit, a state like $|1,1,-1\\rangle$ means there are three qubits in 'up','up','down' state, respectively. And we take the leftmost one in the notation as the first one.\n",
    "\n",
    "\\begin{align*}\n",
    "|1,-1\\rangle = |1\\rangle \\otimes |-1\\rangle = \\begin{bmatrix} 1 \\\\ 0 \\end{bmatrix} \\otimes \\begin{bmatrix} 0 \\\\ 1 \\end{bmatrix} = \n",
    "\\begin{bmatrix} 0 \\\\ 1 \\\\ 0 \\\\ 0 \\end{bmatrix}\n",
    "\\end{align*}\n",
    "\n",
    "Sometimes, for some problems, users need to transfer the notation from $\\{1,-1\\}$ to $\\{1, 0\\}$ according to \n",
    "\n",
    "$$ q = \\frac{s+1}{2}. $$\n",
    "\n",
    "Here $q \\in \\{1,0\\}$, $s \\in \\{1, -1\\}$.  Then a state like $|1,-1\\rangle$ becomes to $|1, 0\\rangle$.  In this notation, $1$ means 'up', $0$ means 'down'."
   ]
  },
  {
   "cell_type": "markdown",
   "metadata": {},
   "source": [
    "## Measurement\n",
    "\n",
    "In our context, information of a simulated annealing end is acquired immediately after the connection is set. A measurement on the annealer will return a qubit configuration according to the former information. "
   ]
  },
  {
   "cell_type": "code",
   "execution_count": 8,
   "metadata": {},
   "outputs": [
    {
     "data": {
      "text/plain": [
       "[1, -1, -1]"
      ]
     },
     "execution_count": 8,
     "metadata": {},
     "output_type": "execute_result"
    }
   ],
   "source": [
    "anl.measure()"
   ]
  },
  {
   "cell_type": "markdown",
   "metadata": {},
   "source": [
    "We use **1** to denote qubit up state, **-1** for down."
   ]
  },
  {
   "cell_type": "markdown",
   "metadata": {},
   "source": [
    "You can repeat the measurement to acess more information about the Gibbs distribution."
   ]
  },
  {
   "cell_type": "code",
   "execution_count": 9,
   "metadata": {},
   "outputs": [
    {
     "name": "stdout",
     "output_type": "stream",
     "text": [
      "[1, -1, -1]\n",
      "[1, -1, -1]\n",
      "[-1, -1, 1]\n",
      "[1, -1, -1]\n",
      "[1, -1, -1]\n",
      "[-1, -1, 1]\n"
     ]
    }
   ],
   "source": [
    "for i in range(6):\n",
    "    print(anl.measure())"
   ]
  },
  {
   "cell_type": "markdown",
   "metadata": {},
   "source": [
    "Also there is a graph view for the last outcome."
   ]
  },
  {
   "cell_type": "code",
   "execution_count": 10,
   "metadata": {},
   "outputs": [
    {
     "data": {
      "image/png": "[encoded data removed]",
      "text/plain": [
       "<Figure size 432x288 with 1 Axes>"
      ]
     },
     "metadata": {},
     "output_type": "display_data"
    }
   ],
   "source": [
    "anl.draw_result()"
   ]
  },
  {
   "cell_type": "markdown",
   "metadata": {},
   "source": [
    "We use deep color for **1** and light color for **-1**."
   ]
  }
 ],
 "metadata": {
  "kernelspec": {
   "display_name": "Python 3",
   "language": "python",
   "name": "python3"
  },
  "language_info": {
   "codemirror_mode": {
    "name": "ipython",
    "version": 3
   },
   "file_extension": ".py",
   "mimetype": "text/x-python",
   "name": "python",
   "nbconvert_exporter": "python",
   "pygments_lexer": "ipython3",
   "version": "3.7.9"
  }
 },
 "nbformat": 4,
 "nbformat_minor": 4
}
