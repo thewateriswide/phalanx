{
 "cells": [
  {
   "cell_type": "markdown",
   "metadata": {},
   "source": [
    "# Tutorial - Minmum of Quadratic Binary Value Functions\n",
    "---\n",
    "If a quadratic function lives on the domain $\\{-1,1\\}$, phalanx can easily find out its minimum."
   ]
  },
  {
   "cell_type": "markdown",
   "metadata": {},
   "source": [
    "# Problem\n",
    "$$ f = a + b + c\\times d $$\n",
    "Here $a, b, c, d$ can just be $-1$ or $1$. We could calculate all 16 possibilities to find out the minimum. But with phalanx, it's much easier."
   ]
  },
  {
   "cell_type": "markdown",
   "metadata": {},
   "source": [
    "## Problem to a connection pattern\n",
    "We use 4 qubits to map variables $a,b,c,d$. Note here we need transform our qubit representation from '0 for up, 1 for down' to '1 for up, -1 for down'. So don't be confused by the measurement."
   ]
  },
  {
   "cell_type": "code",
   "execution_count": 1,
   "metadata": {},
   "outputs": [],
   "source": [
    "from phalanx import Annealer"
   ]
  },
  {
   "cell_type": "code",
   "execution_count": 2,
   "metadata": {},
   "outputs": [],
   "source": [
    "num_qubits = 4\n",
    "anl = Annealer(num_qubits)"
   ]
  },
  {
   "cell_type": "code",
   "execution_count": 3,
   "metadata": {},
   "outputs": [],
   "source": [
    "# Treat the function as one Ising model.\n",
    "connectin = [\n",
    "    [1,0,0,0],\n",
    "    [0,1,0,0],\n",
    "    [0,0,0,1],\n",
    "    [0,0,0,0]\n",
    "]\n",
    "anl.set_connection(connectin)"
   ]
  },
  {
   "cell_type": "markdown",
   "metadata": {},
   "source": [
    "## Minimum point"
   ]
  },
  {
   "cell_type": "code",
   "execution_count": 4,
   "metadata": {},
   "outputs": [
    {
     "data": {
      "text/plain": [
       "[1, 1, 1, 0]"
      ]
     },
     "execution_count": 4,
     "metadata": {},
     "output_type": "execute_result"
    }
   ],
   "source": [
    "anl.measure()"
   ]
  },
  {
   "cell_type": "code",
   "execution_count": 5,
   "metadata": {},
   "outputs": [
    {
     "data": {
      "text/plain": [
       "[1, 1, 0, 1]"
      ]
     },
     "execution_count": 5,
     "metadata": {},
     "output_type": "execute_result"
    }
   ],
   "source": [
    "anl.measure()"
   ]
  },
  {
   "cell_type": "markdown",
   "metadata": {},
   "source": [
    "So the point minimize the function $f$ is  \n",
    "\\begin{align*}\n",
    "a &= -1 \\\\\n",
    "b &= -1 \\\\\n",
    "c &= -1 \\\\\n",
    "d &= +1\n",
    "\\end{align*}\n",
    "or  \n",
    "\\begin{align*}\n",
    "a &= -1 \\\\\n",
    "b &= -1 \\\\\n",
    "c &= +1 \\\\\n",
    "d &= -1\n",
    "\\end{align*}\n",
    "and the minimum of $f$ is $-3$."
   ]
  },
  {
   "cell_type": "markdown",
   "metadata": {},
   "source": [
    "Since a large group of problems can be treated as this kind(think how a CPU works), a quantum annealer is really powerful."
   ]
  },
  {
   "cell_type": "code",
   "execution_count": null,
   "metadata": {},
   "outputs": [],
   "source": []
  }
 ],
 "metadata": {
  "kernelspec": {
   "display_name": "Python 3",
   "language": "python",
   "name": "python3"
  },
  "language_info": {
   "codemirror_mode": {
    "name": "ipython",
    "version": 3
   },
   "file_extension": ".py",
   "mimetype": "text/x-python",
   "name": "python",
   "nbconvert_exporter": "python",
   "pygments_lexer": "ipython3",
   "version": "3.7.9"
  }
 },
 "nbformat": 4,
 "nbformat_minor": 4
}
